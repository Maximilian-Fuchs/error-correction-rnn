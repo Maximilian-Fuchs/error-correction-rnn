{
 "cells": [
  {
   "cell_type": "markdown",
   "metadata": {},
   "source": [
    "# The Error Correction RNN"
   ]
  },
  {
   "cell_type": "markdown",
   "metadata": {},
   "source": [
    "## Index\n",
    "\n",
    "1. Task\n",
    "2. Data\n",
    "2. An Off-the-shelf Seq2Seq RNN\n",
    "3. Training and Evaluation"
   ]
  },
  {
   "cell_type": "markdown",
   "metadata": {},
   "source": [
    "## Section 1: Task"
   ]
  },
  {
   "cell_type": "markdown",
   "metadata": {},
   "source": [
    "The network we're about to train is not going to directly serve any practical application. \n",
    "It's meant to serve as a proof of concept. \n",
    "\n",
    "We want to show in principle that a neural network can be used to **reconstruct a document from faulty copies** of that document. \n",
    "\n",
    "The concept is meant to be used in my course project (see https://www.dropbox.com/s/941wnu50197gshs/DLAM_Expose.pdf?dl=0%29)."
   ]
  },
  {
   "cell_type": "markdown",
   "metadata": {},
   "source": [
    "https://pytorch.org/tutorials/intermediate/seq2seq_translation_tutorial.html"
   ]
  },
  {
   "cell_type": "markdown",
   "metadata": {},
   "source": [
    "### 1.1 Example\n",
    "\n",
    "A task for our network will look like this:\n",
    "\n",
    "```\n",
    "Original = crying\n",
    "\n",
    "Copy1 = crn\n",
    "Copy2 = orreng\n",
    "Copy3 = crywing\n",
    "\n",
    "```\n",
    "\n",
    "The network receives the copies as an input and reconstructs the original word.\n",
    "\n",
    "```\n",
    "Network output = crying\n",
    "```"
   ]
  },
  {
   "cell_type": "markdown",
   "metadata": {},
   "source": [
    "## Section 2: Data"
   ]
  },
  {
   "cell_type": "code",
   "execution_count": 29,
   "metadata": {},
   "outputs": [
    {
     "name": "stdout",
     "output_type": "stream",
     "text": [
      "Number of words in dataset:\t 2621785\n",
      "\n",
      "Example dataset entry:\n",
      " ['Now', ',', 'upon', 'his', 'father', \"'\", 's', 'marriage', ',', 'it', 'was', 'very', 'generally', 'proposed', ',', 'as', 'a', 'most', 'proper', 'attention', ',', 'that', 'the', 'visit', 'should', 'take', 'place', '.']\n"
     ]
    }
   ],
   "source": [
    "# load tokenized sentences from the gutenberg corpus\n",
    "from nltk.corpus import gutenberg\n",
    "\n",
    "sents = []\n",
    "for fileid in gutenberg.fileids():\n",
    "    for sent in gutenberg.sents(fileid):\n",
    "        sents.append(sent)\n",
    "\n",
    "print('Number of words in dataset:\\t', sum(len(sent) for sent in sents))\n",
    "print('\\nExample dataset entry:\\n', sents[195])"
   ]
  },
  {
   "cell_type": "markdown",
   "metadata": {},
   "source": [
    "### 2.1 : Faulty Copy Machines\n",
    "\n",
    "We will be using 3 different 'faulty copy machines' to generate the input for the network.\n",
    "\n",
    "Each FCM will induce a certain kind of error with a certain probability."
   ]
  },
  {
   "cell_type": "code",
   "execution_count": 2,
   "metadata": {
    "collapsed": true
   },
   "outputs": [],
   "source": [
    "import random\n",
    "from random import randint\n",
    "# use a seed for reproducibility\n",
    "random.seed(1995)"
   ]
  },
  {
   "cell_type": "markdown",
   "metadata": {},
   "source": [
    "#### FCM Hamburg\n",
    "The fcm_hamburg will skip characters with a certain probability"
   ]
  },
  {
   "cell_type": "code",
   "execution_count": 3,
   "metadata": {
    "collapsed": true
   },
   "outputs": [],
   "source": [
    "HAMBURG_ERROR_PROB = 0.4\n",
    "\n",
    "# create faulty copy machine hamburg\n",
    "def fcm_hamburg(original_sents):\n",
    "    copy_sents = []\n",
    "    for original_sent in original_sents:\n",
    "        copy_sent = []\n",
    "        for original_token in original_sent:\n",
    "            # skip characters with a certain probability\n",
    "            copy_token = ''.join([char for char in original_token if random.random() > HAMBURG_ERROR_PROB])\n",
    "            copy_sent.append(copy_token)\n",
    "        copy_sents.append(copy_sent)\n",
    "    return copy_sents"
   ]
  },
  {
   "cell_type": "markdown",
   "metadata": {},
   "source": [
    "##### FCM Hamburg Example"
   ]
  },
  {
   "cell_type": "code",
   "execution_count": 4,
   "metadata": {},
   "outputs": [
    {
     "name": "stdout",
     "output_type": "stream",
     "text": [
      "Original Sentence:\n",
      " ['Her', 'mother', 'had', 'died', 'too', 'long', 'ago', 'for', 'her', 'to', 'have', 'more', 'than', 'an', 'indistinct', 'remembrance', 'of', 'her', 'caresses', ';', 'and', 'her', 'place', 'had', 'been', 'supplied', 'by', 'an', 'excellent', 'woman', 'as', 'governess', ',', 'who', 'had', 'fallen', 'little', 'short', 'of', 'a', 'mother', 'in', 'affection', '.']\n",
      "\n",
      "\n",
      "Hamburg Sentence:\n",
      " [['Her', 'mothe', 'had', 'died', 'too', 'long', 'go', 'o', 'he', 'o', 'hav', 'm', 'th', 'a', 'distint', 'rembrnc', '', 'h', 'carsss', ';', 'and', 'hr', 'ace', 'ha', 'e', 'suppi', 'b', 'a', 'eele', 'oma', 's', 'gonss', '', 'wh', 'had', 'falen', 'll', 'sr', 'f', 'a', 'm', 'i', 'ffcon', '.']]\n"
     ]
    }
   ],
   "source": [
    "print(\"Original Sentence:\\n\", sents[5])\n",
    "print(\"\\n\")\n",
    "print(\"Hamburg Sentence:\\n\",fcm_hamburg([sents[5]]))"
   ]
  },
  {
   "cell_type": "markdown",
   "metadata": {},
   "source": [
    "#### FCM Lisboa\n",
    "fcm_lisboa replaces characters in it's copy with a certain probability.\n",
    "\n",
    "The replacement-character for a character will always be the same."
   ]
  },
  {
   "cell_type": "code",
   "execution_count": 41,
   "metadata": {
    "collapsed": true
   },
   "outputs": [],
   "source": [
    "LISBOA_ERROR_PROB = 0.3\n",
    "\n",
    "charset = [char for sent in sents\n",
    "                  for token in sent\n",
    "                  for char in token]\n",
    "\n",
    "# create the mapping that defines by which character another character will be replaced\n",
    "lisboa_char_map = {}\n",
    "for char in set(charset):\n",
    "    lisboa_char_map[char] = random.choice(charset)\n",
    "charset = None\n",
    "def fcm_lisboa(original_sents, error_prob=0):\n",
    "    copy_sents = []\n",
    "    for original_sent in original_sents:\n",
    "        copy_sent = []\n",
    "        for original_token in original_sent:\n",
    "            # replace certain chars with other certain chars with \n",
    "            copy_token = []\n",
    "            for char in original_token:\n",
    "                if random.random() < LISBOA_ERROR_PROB:\n",
    "                    copy_char = lisboa_char_map[char]\n",
    "                else:\n",
    "                    copy_char = char\n",
    "                copy_token.append(copy_char)\n",
    "            copy_sent.append(''.join(copy_token))\n",
    "        copy_sents.append(copy_sent)\n",
    "    return copy_sents"
   ]
  },
  {
   "cell_type": "markdown",
   "metadata": {},
   "source": [
    "##### FCM Lisboa Example"
   ]
  },
  {
   "cell_type": "code",
   "execution_count": 6,
   "metadata": {},
   "outputs": [
    {
     "name": "stdout",
     "output_type": "stream",
     "text": [
      "Original Sentence:\n",
      " ['Her', 'mother', 'had', 'died', 'too', 'long', 'ago', 'for', 'her', 'to', 'have', 'more', 'than', 'an', 'indistinct', 'remembrance', 'of', 'her', 'caresses', ';', 'and', 'her', 'place', 'had', 'been', 'supplied', 'by', 'an', 'excellent', 'woman', 'as', 'governess', ',', 'who', 'had', 'fallen', 'little', 'short', 'of', 'a', 'mother', 'in', 'affection', '.']\n",
      "\n",
      "\n",
      "Lisboa Sentence:\n",
      " [['wer', 'mWnhgr', 'hxd', 'dhed', 'tWo', 'lWto', 'aoo', 'for', 'sgr', 'tW', 'savg', 'mWle', 'nhxt', 'an', 'inhhstincn', 'lgmembrantg', 'of', 'hel', 'targssgr', ';', 'and', 'sel', 'plxte', 'hxd', 'heen', 'supnthgh', 'by', 'xn', 'ercgllgnn', ';oyan', 'as', 'oodelnesr', 'r', 'whW', 'hxh', 'faltgt', 'thntlg', 'shWrn', 'of', 'a', 'yotsel', 'ht', 'acfectiot', '.']]\n"
     ]
    }
   ],
   "source": [
    "print(\"Original Sentence:\\n\", sents[5])\n",
    "print(\"\\n\")\n",
    "print(\"Lisboa Sentence:\\n\",fcm_lisboa([sents[5]]))"
   ]
  },
  {
   "cell_type": "markdown",
   "metadata": {},
   "source": [
    "#### FCM Madrid\n",
    "\n",
    "FCM Madrid inserts random characters with a certain probability"
   ]
  },
  {
   "cell_type": "code",
   "execution_count": 7,
   "metadata": {
    "collapsed": true
   },
   "outputs": [],
   "source": [
    "MADRID_ERROR_PROB = 0.4\n",
    "# create faulty copy machine madrid\n",
    "# FCM Madrid inserts random characters with a certain probability\n",
    "\n",
    "def fcm_madrid(original_sents, error_prob=0):\n",
    "    charset = [char for sent in original_sents\n",
    "                  for token in sent\n",
    "                  for char in token]\n",
    "    \n",
    "    copy_sents = []\n",
    "    for original_sent in original_sents:\n",
    "        copy_sent = []\n",
    "        for original_token in original_sent:\n",
    "            # insert random chars with a certain probability\n",
    "            copy_token = []\n",
    "            for char in original_token:\n",
    "                if random.random() < MADRID_ERROR_PROB:\n",
    "                    copy_token.append(charset[randint(0, len(charset)-1)])\n",
    "                copy_token.append(char)\n",
    "            copy_sent.append(''.join(copy_token))\n",
    "        copy_sents.append(copy_sent)\n",
    "    return copy_sents"
   ]
  },
  {
   "cell_type": "markdown",
   "metadata": {},
   "source": [
    "##### FCM Lisboa Example"
   ]
  },
  {
   "cell_type": "code",
   "execution_count": 8,
   "metadata": {
    "scrolled": true
   },
   "outputs": [
    {
     "name": "stdout",
     "output_type": "stream",
     "text": [
      "Original Sentence:\n",
      " ['Her', 'mother', 'had', 'died', 'too', 'long', 'ago', 'for', 'her', 'to', 'have', 'more', 'than', 'an', 'indistinct', 'remembrance', 'of', 'her', 'caresses', ';', 'and', 'her', 'place', 'had', 'been', 'supplied', 'by', 'an', 'excellent', 'woman', 'as', 'governess', ',', 'who', 'had', 'fallen', 'little', 'short', 'of', 'a', 'mother', 'in', 'affection', '.']\n",
      "\n",
      "\n",
      "Madrid Sentence:\n",
      " [['tHeer', 'rm.otcherr', 'hiad', 'diaehd', 'too', 'loong', 'ageo', 'rfor', 'iher', 'eto', 'hatvoe', 'morae', 'othan', 'an', 'inmdaisltoinct', 'rlemeeombfranndce', 'eof', 'her', 'catreassess', ';', ';anod', 'bhoetr', 'apfltace', 'had', 'btenean', 'esnuopptlilerd', 'by', 'an', 'rebxcellent', 'ewobman', 'as', 'gaovcerneosas', ',', 'hwlho', 'lhrad', 'falsloein', 'litttrle', 'rshrort', 'olf', 'ra', 'mother', 'idn', 'aaffectihoen', 'l.']]\n"
     ]
    }
   ],
   "source": [
    "print(\"Original Sentence:\\n\", sents[5])\n",
    "print(\"\\n\")\n",
    "print(\"Madrid Sentence:\\n\",fcm_madrid([sents[5]]))"
   ]
  },
  {
   "cell_type": "markdown",
   "metadata": {},
   "source": [
    "#### Feature Representation\n",
    "We are using a sequence to sequence network, that was originally created for the task of language-translation. To make the output sequences of our three copy machines consumable for the network we have to represent as a single sequence. \n",
    "\n",
    "We do that by concatinating them character by character as shown in the following example:\n"
   ]
  },
  {
   "cell_type": "code",
   "execution_count": 64,
   "metadata": {},
   "outputs": [
    {
     "data": {
      "text/plain": [
       "['WrW', 'aasa', 'sss']"
      ]
     },
     "execution_count": 64,
     "metadata": {},
     "output_type": "execute_result"
    }
   ],
   "source": [
    "def feature_word(original_word):\n",
    "    result = []\n",
    "    hamburg_word = fcm_hamburg([original_word])[0]\n",
    "    lisboa_word = fcm_lisboa([original_word])[0]\n",
    "    madrid_word = fcm_madrid([original_word])[0]\n",
    "    feature_word = []\n",
    "    word_lens = [len(word) for word in [hamburg_word, lisboa_word, madrid_word, original_word]]\n",
    "    for char_idx in range(max(word_lens)):\n",
    "        feature_char = ''\n",
    "        try:\n",
    "            feature_char += hamburg_word[char_idx]\n",
    "        except(IndexError):\n",
    "            feature_char += '#'\n",
    "        try:\n",
    "            feature_char += lisboa_word[char_idx]\n",
    "        except(IndexError):\n",
    "            feature_char += '#'\n",
    "        try:\n",
    "            feature_char += madrid_word[char_idx]\n",
    "        except(IndexError):\n",
    "            feature_char += '#'\n",
    "        result.append(feature_char)\n",
    "    return result\n",
    "    \n",
    "feature_word('Was')"
   ]
  },
  {
   "cell_type": "code",
   "execution_count": 52,
   "metadata": {},
   "outputs": [
    {
     "name": "stdout",
     "output_type": "stream",
     "text": [
      "Hamburg:  ximln\n",
      "Lisboa:  MaxYeilYan\n",
      "Madrid:  Malximiimlmialn\n",
      "\n",
      "[[['a', 'e', 'M', 'x', 'a', 'a', 'i', 't', 'x', 'i', 'i', 'i', 'i', 'e', 'm', 'a', 'i', 'i', 'n', 'l', 'l', '#', 'Y', 'i', '#', 'm', 'i', '#', 'n', 'l', '#', '#', 'a', '#', '#', 'n'], ['M', 'a', 'x', 'i', 'm', 'i', 'l', 'i', 'a', 'n']]]\n"
     ]
    }
   ],
   "source": [
    "# CREATE FAULTY COPYS OF 'm\n",
    "def print_examples_for_representation(word):\n",
    "    print(\"Hamburg: \", ''.join(fcm_hamburg([word])[0]))\n",
    "    print(\"Lisboa: \", ''.join(fcm_lisboa([word])[0]))\n",
    "    print(\"Madrid: \", ''.join(fcm_madrid([word])[0]))\n",
    "    print()\n",
    "    print(build_feature_label_pairs([['Maximilian']]))\n",
    "    \n",
    "print_examples_for_representation('Maximilian')"
   ]
  },
  {
   "cell_type": "code",
   "execution_count": 51,
   "metadata": {
    "collapsed": true
   },
   "outputs": [],
   "source": [
    "def build_feature_label_pairs(original_sents):\n",
    "    result = []\n",
    "    for original_sent in original_sents:\n",
    "        hamburg_sent = fcm_hamburg([original_sent])[0]\n",
    "        lisboa_sent = fcm_lisboa([original_sent])[0]\n",
    "        madrid_sent = fcm_madrid([original_sent])[0]\n",
    "        \n",
    "        feature_sent = []\n",
    "        \n",
    "        for idx, original_word in enumerate(original_sent):\n",
    "            \n",
    "            hamburg_word = hamburg_sent[idx]\n",
    "            lisboa_word = lisboa_sent[idx]\n",
    "            madrid_word = madrid_sent[idx]\n",
    "            feature_word = []\n",
    "            word_lens = [len(word) for word in [hamburg_word, lisboa_word, madrid_word, original_word]]\n",
    "            for char_idx in range(max(word_lens)):\n",
    "                feature_char = ''\n",
    "                try:\n",
    "                    feature_char += hamburg_word[char_idx]\n",
    "                except(IndexError):\n",
    "                    feature_char += '#'\n",
    "                try:\n",
    "                    feature_char += lisboa_word[char_idx]\n",
    "                except(IndexError):\n",
    "                    feature_char += '#'\n",
    "                try:\n",
    "                    feature_char += madrid_word[char_idx]\n",
    "                except(IndexError):\n",
    "                    feature_char += '#'\n",
    "                # feature_word.append(feature_char)\n",
    "                feature_word += list(feature_char)\n",
    "            result.append([feature_word, list(original_word)])\n",
    "            feature_sent += feature_word\n",
    "            if idx < len(original_sent)-1:\n",
    "                feature_sent.append(' ')\n",
    "        #result.append([feature_sent, list(' '.join(original_sent))])\n",
    "    return result"
   ]
  },
  {
   "cell_type": "code",
   "execution_count": 32,
   "metadata": {},
   "outputs": [
    {
     "name": "stdout",
     "output_type": "stream",
     "text": [
      "Feature:\n",
      " ['h', 'b', 'S', '#', 'h', 'h', '#', 'e', 'e']\n",
      "\n",
      "\n",
      "Label:\n",
      " ['S', 'h', 'e']\n"
     ]
    }
   ],
   "source": [
    "data_pair = build_feature_label_pairs([sents[4]])[0]\n",
    "feature = data_pair[0]\n",
    "label = data_pair[1]\n",
    "print(\"Feature:\\n\", feature)\n",
    "print(\"\\n\")\n",
    "print(\"Label:\\n\", label)"
   ]
  },
  {
   "cell_type": "code",
   "execution_count": 11,
   "metadata": {
    "collapsed": true
   },
   "outputs": [],
   "source": [
    "def build_shuffle_pairs(sents):\n",
    "    shuffled_sents = []\n",
    "    for sent in sents:\n",
    "        shuffled_sent = []\n",
    "        for word in sent:\n",
    "            shuffled_word = list(word)\n",
    "            random.shuffle(shuffled_word)\n",
    "            shuffled_sent.append(''.join(shuffled_word))\n",
    "        shuffled_sents.append(shuffled_sent)\n",
    "    return build_feature_label_pairs(shuffled_sents)"
   ]
  },
  {
   "cell_type": "code",
   "execution_count": 15,
   "metadata": {},
   "outputs": [
    {
     "name": "stdout",
     "output_type": "stream",
     "text": [
      "Read 5243570 word pairs\n",
      "Counting words...\n",
      "Counted words:\n",
      "flawed_chars 97\n",
      "correct_chars 96\n"
     ]
    }
   ],
   "source": [
    "def prepareData(factor):\n",
    "    input_lang = Lang('flawed_chars')\n",
    "    output_lang = Lang('correct_chars')\n",
    "    pairs = []\n",
    "    for i in range(factor):\n",
    "        pairs += build_feature_label_pairs(sents)\n",
    "    pairs += build_shuffle_pairs(sents)\n",
    "    print(\"Read %s word pairs\" % len(pairs))\n",
    "    print(\"Counting words...\")\n",
    "    for pair in pairs:\n",
    "        input_lang.addWord(pair[0])\n",
    "        output_lang.addWord(pair[1])\n",
    "    print(\"Counted words:\")\n",
    "    print(input_lang.name, input_lang.n_chars)\n",
    "    print(output_lang.name, output_lang.n_chars)\n",
    "    return input_lang, output_lang, pairs\n",
    "\n",
    "input_lang, output_lang, pairs = prepareData(1)\n",
    "sents = None"
   ]
  },
  {
   "cell_type": "code",
   "execution_count": 13,
   "metadata": {
    "collapsed": true
   },
   "outputs": [],
   "source": [
    "from __future__ import unicode_literals, print_function, division\n",
    "from io import open\n",
    "import unicodedata\n",
    "import string\n",
    "import re\n",
    "import random\n",
    "\n",
    "import torch\n",
    "import torch.nn as nn\n",
    "from torch import optim\n",
    "import torch.nn.functional as F\n",
    "\n",
    "device = torch.device(\"cuda\" if torch.cuda.is_available() else \"cpu\")"
   ]
  },
  {
   "cell_type": "code",
   "execution_count": 14,
   "metadata": {
    "collapsed": true
   },
   "outputs": [],
   "source": [
    "SOS_token = 0\n",
    "EOS_token = 1\n",
    "\n",
    "\n",
    "class Lang:\n",
    "    def __init__(self, name):\n",
    "        self.name = name\n",
    "        self.char2index = {}\n",
    "        self.char2count = {}\n",
    "        self.index2char = {0: \"SOS\", 1: \"EOS\"}\n",
    "        self.n_chars = 2  # Count SOS and EOS\n",
    "\n",
    "    def addSentence(self, sentence):\n",
    "        for word in sentence:\n",
    "            self.addWord(word)\n",
    "\n",
    "    def addWord(self, word):\n",
    "        for char in word:\n",
    "            self.addChar(char)\n",
    "            \n",
    "    def addChar(self, char):\n",
    "        if char not in self.char2index:\n",
    "            self.char2index[char] = self.n_chars\n",
    "            self.char2count[char] = 1\n",
    "            self.index2char[self.n_chars] = char\n",
    "            self.n_chars += 1\n",
    "        else:\n",
    "            self.char2count[char] += 1\n",
    "\n",
    "#lang = Lang(\"idk\")\n",
    "#for sent in sents:\n",
    "#    lang.addSentence(sent)\n",
    "    \n",
    "#print(lang.char2index)"
   ]
  },
  {
   "cell_type": "code",
   "execution_count": 9,
   "metadata": {},
   "outputs": [
    {
     "name": "stdout",
     "output_type": "stream",
     "text": [
      "Read 10487140 word pairs\n",
      "Counting words...\n",
      "Counted words:\n",
      "flawed_chars 97\n",
      "correct_chars 96\n"
     ]
    }
   ],
   "source": []
  },
  {
   "cell_type": "code",
   "execution_count": 16,
   "metadata": {
    "collapsed": true
   },
   "outputs": [],
   "source": [
    "class EncoderRNN(nn.Module):\n",
    "    def __init__(self, input_size, hidden_size):\n",
    "        super(EncoderRNN, self).__init__()\n",
    "        self.hidden_size = hidden_size\n",
    "\n",
    "        self.embedding = nn.Embedding(input_size, hidden_size)\n",
    "        self.gru = nn.GRU(hidden_size, hidden_size)\n",
    "\n",
    "    def forward(self, input, hidden):\n",
    "        embedded = self.embedding(input).view(1, 1, -1)\n",
    "        output = embedded\n",
    "        output, hidden = self.gru(output, hidden)\n",
    "        return output, hidden\n",
    "\n",
    "    def initHidden(self):\n",
    "        return torch.zeros(1, 1, self.hidden_size, device=device)"
   ]
  },
  {
   "cell_type": "code",
   "execution_count": 17,
   "metadata": {
    "collapsed": true
   },
   "outputs": [],
   "source": [
    "class DecoderRNN(nn.Module):\n",
    "    def __init__(self, hidden_size, output_size):\n",
    "        super(DecoderRNN, self).__init__()\n",
    "        self.hidden_size = hidden_size\n",
    "\n",
    "        self.embedding = nn.Embedding(output_size, hidden_size)\n",
    "        self.gru = nn.GRU(hidden_size, hidden_size)\n",
    "        self.out = nn.Linear(hidden_size, output_size)\n",
    "        self.softmax = nn.LogSoftmax(dim=1)\n",
    "\n",
    "    def forward(self, input, hidden):\n",
    "        output = self.embedding(input).view(1, 1, -1)\n",
    "        output = F.relu(output)\n",
    "        output, hidden = self.gru(output, hidden)\n",
    "        output = self.softmax(self.out(output[0]))\n",
    "        return output, hidden\n",
    "\n",
    "    def initHidden(self):\n",
    "        return torch.zeros(1, 1, self.hidden_size, device=device)"
   ]
  },
  {
   "cell_type": "code",
   "execution_count": 18,
   "metadata": {
    "collapsed": true
   },
   "outputs": [],
   "source": [
    "feature_lens = []\n",
    "for pair in pairs:\n",
    "    feature_lens.append(len(pair[0]))\n",
    "MAX_LENGTH = max(feature_lens)\n",
    "class DecoderRNN(nn.Module):\n",
    "    def __init__(self, hidden_size, output_size, dropout_p=0.1, max_length=MAX_LENGTH):\n",
    "        super(DecoderRNN, self).__init__()\n",
    "        self.hidden_size = hidden_size\n",
    "        self.output_size = output_size\n",
    "        self.dropout_p = dropout_p\n",
    "        self.max_length = max_length\n",
    "\n",
    "        self.embedding = nn.Embedding(self.output_size, self.hidden_size)\n",
    "        self.attn = nn.Linear(self.hidden_size * 2, self.max_length)\n",
    "        self.attn_combine = nn.Linear(self.hidden_size * 2, self.hidden_size)\n",
    "        self.dropout = nn.Dropout(self.dropout_p)\n",
    "        self.gru = nn.GRU(self.hidden_size, self.hidden_size)\n",
    "        self.out = nn.Linear(self.hidden_size, self.output_size)\n",
    "\n",
    "    def forward(self, input, hidden, encoder_outputs):\n",
    "        embedded = self.embedding(input).view(1, 1, -1)\n",
    "        embedded = self.dropout(embedded)\n",
    "\n",
    "        attn_weights = F.softmax(\n",
    "            self.attn(torch.cat((embedded[0], hidden[0]), 1)), dim=1)\n",
    "        attn_applied = torch.bmm(attn_weights.unsqueeze(0),\n",
    "                                 encoder_outputs.unsqueeze(0))\n",
    "\n",
    "        output = torch.cat((embedded[0], attn_applied[0]), 1)\n",
    "        output = self.attn_combine(output).unsqueeze(0)\n",
    "\n",
    "        output = F.relu(output)\n",
    "        output, hidden = self.gru(output, hidden)\n",
    "\n",
    "        output = F.log_softmax(self.out(output[0]), dim=1)\n",
    "        return output, hidden, attn_weights\n",
    "\n",
    "    def initHidden(self):\n",
    "        return torch.zeros(1, 1, self.hidden_size, device=device)"
   ]
  },
  {
   "cell_type": "code",
   "execution_count": 19,
   "metadata": {
    "collapsed": true
   },
   "outputs": [],
   "source": [
    "def indexesFromSentence(lang, sentence):\n",
    "    return [lang.char2index[char] for char in sentence]\n",
    "\n",
    "\n",
    "def tensorFromSentence(lang, sentence):\n",
    "    indexes = indexesFromSentence(lang, sentence)\n",
    "    indexes.append(EOS_token)\n",
    "    return torch.tensor(indexes, dtype=torch.long, device=device).view(-1, 1)\n",
    "\n",
    "\n",
    "def tensorsFromPair(pair):\n",
    "    input_tensor = tensorFromSentence(input_lang, pair[0])\n",
    "    target_tensor = tensorFromSentence(output_lang, pair[1])\n",
    "    return (input_tensor, target_tensor)\n"
   ]
  },
  {
   "cell_type": "code",
   "execution_count": 20,
   "metadata": {
    "collapsed": true
   },
   "outputs": [],
   "source": [
    "teacher_forcing_ratio = 0.5\n",
    "\n",
    "\n",
    "def train(input_tensor, target_tensor, encoder, decoder, encoder_optimizer, decoder_optimizer, criterion, max_length=MAX_LENGTH):\n",
    "    encoder_hidden = encoder.initHidden()\n",
    "\n",
    "    encoder_optimizer.zero_grad()\n",
    "    decoder_optimizer.zero_grad()\n",
    "\n",
    "    input_length = input_tensor.size(0)\n",
    "    target_length = target_tensor.size(0)\n",
    "\n",
    "    encoder_outputs = torch.zeros(max_length, encoder.hidden_size, device=device)\n",
    "\n",
    "    loss = 0\n",
    "\n",
    "    for ei in range(input_length):\n",
    "        encoder_output, encoder_hidden = encoder(\n",
    "            input_tensor[ei], encoder_hidden)\n",
    "        encoder_outputs[ei] = encoder_output[0, 0]\n",
    "\n",
    "    decoder_input = torch.tensor([[SOS_token]], device=device)\n",
    "\n",
    "    decoder_hidden = encoder_hidden\n",
    "\n",
    "    use_teacher_forcing = True if random.random() < teacher_forcing_ratio else False\n",
    "\n",
    "    if use_teacher_forcing:\n",
    "        # Teacher forcing: Feed the target as the next input\n",
    "        for di in range(target_length):\n",
    "            decoder_output, decoder_hidden, decoder_attention = decoder(\n",
    "                decoder_input, decoder_hidden, encoder_outputs)\n",
    "            loss += criterion(decoder_output, target_tensor[di])\n",
    "            decoder_input = target_tensor[di]  # Teacher forcing\n",
    "\n",
    "    else:\n",
    "        # Without teacher forcing: use its own predictions as the next input\n",
    "        for di in range(target_length):\n",
    "            decoder_output, decoder_hidden, decoder_attention = decoder(\n",
    "                decoder_input, decoder_hidden, encoder_outputs)\n",
    "            topv, topi = decoder_output.topk(1)\n",
    "            decoder_input = topi.squeeze().detach()  # detach from history as input\n",
    "\n",
    "            loss += criterion(decoder_output, target_tensor[di])\n",
    "            if decoder_input.item() == EOS_token:\n",
    "                break\n",
    "\n",
    "    loss.backward()\n",
    "\n",
    "    encoder_optimizer.step()\n",
    "    decoder_optimizer.step()\n",
    "\n",
    "    return loss.item() / target_length"
   ]
  },
  {
   "cell_type": "code",
   "execution_count": 21,
   "metadata": {
    "collapsed": true
   },
   "outputs": [],
   "source": [
    "import time\n",
    "import math\n",
    "\n",
    "\n",
    "def asMinutes(s):\n",
    "    m = math.floor(s / 60)\n",
    "    s -= m * 60\n",
    "    return '%dm %ds' % (m, s)\n",
    "\n",
    "\n",
    "def timeSince(since, percent):\n",
    "    now = time.time()\n",
    "    s = now - since\n",
    "    es = s / (percent)\n",
    "    rs = es - s\n",
    "    return '%s (- %s)' % (asMinutes(s), asMinutes(rs))"
   ]
  },
  {
   "cell_type": "code",
   "execution_count": 22,
   "metadata": {
    "collapsed": true
   },
   "outputs": [],
   "source": [
    "def trainIters(encoder, decoder, n_iters, print_every=1000, plot_every=100, learning_rate=0.008):\n",
    "    start = time.time()\n",
    "    plot_losses = []\n",
    "    print_loss_total = 0  # Reset every print_every\n",
    "    plot_loss_total = 0  # Reset every plot_every\n",
    "\n",
    "    encoder_optimizer = optim.SGD(encoder.parameters(), lr=learning_rate)\n",
    "    decoder_optimizer = optim.SGD(decoder.parameters(), lr=learning_rate)\n",
    "    training_pairs = [tensorsFromPair(random.choice(pairs))\n",
    "                      for i in range(n_iters)]\n",
    "    criterion = nn.NLLLoss()\n",
    "\n",
    "    for iter in range(1, n_iters + 1):\n",
    "        training_pair = training_pairs[iter - 1]\n",
    "        input_tensor = training_pair[0]\n",
    "        target_tensor = training_pair[1]\n",
    "\n",
    "        loss = train(input_tensor, target_tensor, encoder,\n",
    "                     decoder, encoder_optimizer, decoder_optimizer, criterion)\n",
    "        print_loss_total += loss\n",
    "        plot_loss_total += loss\n",
    "\n",
    "        if iter % print_every == 0:\n",
    "            print_loss_avg = print_loss_total / print_every\n",
    "            print_loss_total = 0\n",
    "            print('%s (%d %d%%) %.4f' % (timeSince(start, iter / n_iters),\n",
    "                                         iter, iter / n_iters * 100, print_loss_avg))\n",
    "\n",
    "        if iter % plot_every == 0:\n",
    "            plot_loss_avg = plot_loss_total / plot_every\n",
    "            plot_losses.append(plot_loss_avg)\n",
    "            plot_loss_total = 0\n",
    "\n",
    "    # showPlot(plot_losses)\n",
    "    return plot_losses"
   ]
  },
  {
   "cell_type": "code",
   "execution_count": 23,
   "metadata": {
    "collapsed": true
   },
   "outputs": [],
   "source": [
    "import matplotlib.pyplot as plt\n",
    "#plt.switch_backend('agg')\n",
    "import matplotlib.ticker as ticker\n",
    "import numpy as np\n",
    "\n",
    "\n",
    "def showPlot(points):\n",
    "    plt.figure()\n",
    "    fig, ax = plt.subplots()\n",
    "    # this locator puts ticks at regular intervals\n",
    "    loc = ticker.MultipleLocator(base=0.2)\n",
    "    ax.yaxis.set_major_locator(loc)\n",
    "    plt.plot(points)\n",
    "    plt.show()"
   ]
  },
  {
   "cell_type": "code",
   "execution_count": 24,
   "metadata": {
    "collapsed": true
   },
   "outputs": [],
   "source": [
    "def evaluate(encoder, decoder, sentence, max_length=MAX_LENGTH):\n",
    "    with torch.no_grad():\n",
    "        input_tensor = tensorFromSentence(input_lang, sentence)\n",
    "        input_length = input_tensor.size()[0]\n",
    "        encoder_hidden = encoder.initHidden()\n",
    "\n",
    "        encoder_outputs = torch.zeros(max_length, encoder.hidden_size, device=device)\n",
    "\n",
    "        for ei in range(input_length):\n",
    "            encoder_output, encoder_hidden = encoder(input_tensor[ei],\n",
    "                                                     encoder_hidden)\n",
    "            encoder_outputs[ei] += encoder_output[0, 0]\n",
    "\n",
    "        decoder_input = torch.tensor([[SOS_token]], device=device)  # SOS\n",
    "\n",
    "        decoder_hidden = encoder_hidden\n",
    "\n",
    "        decoded_words = []\n",
    "        decoder_attentions = torch.zeros(max_length, max_length)\n",
    "\n",
    "        for di in range(max_length):\n",
    "            decoder_output, decoder_hidden, decoder_attention = decoder(\n",
    "                decoder_input, decoder_hidden, encoder_outputs)\n",
    "            decoder_attentions[di] = decoder_attention.data\n",
    "            topv, topi = decoder_output.data.topk(1)\n",
    "            if topi.item() == EOS_token:\n",
    "                decoded_words.append('<EOS>')\n",
    "                break\n",
    "            else:\n",
    "                decoded_words.append(output_lang.index2char[topi.item()])\n",
    "\n",
    "            decoder_input = topi.squeeze().detach()\n",
    "\n",
    "        return decoded_words, decoder_attentions[:di + 1]\n"
   ]
  },
  {
   "cell_type": "code",
   "execution_count": 25,
   "metadata": {
    "collapsed": true
   },
   "outputs": [],
   "source": [
    "def evaluateRandomly(encoder, decoder, n=10):\n",
    "    for i in range(n):\n",
    "        pair = random.choice(pairs)\n",
    "        \n",
    "        hamburg = ''\n",
    "        lisboa = ''\n",
    "        madrid = ''\n",
    "        i = 0\n",
    "        while i < len(pair[0]):\n",
    "            hamburg += pair[0][i]\n",
    "            lisboa += pair[0][i+1]\n",
    "            madrid += pair[0][i+2]\n",
    "            i += 3\n",
    "        print('Hamburg >', hamburg)\n",
    "        print('Lisboa >', lisboa)\n",
    "        print('Madrid >', madrid)            \n",
    "        print('=', ''.join(pair[1]))\n",
    "        output_words, attentions = evaluate(encoder, decoder, pair[0])\n",
    "        output_sentence = ''.join(output_words[:-1])\n",
    "        print('<', output_sentence)\n",
    "        print('')"
   ]
  },
  {
   "cell_type": "code",
   "execution_count": 26,
   "metadata": {},
   "outputs": [
    {
     "name": "stdout",
     "output_type": "stream",
     "text": [
      "2m 28s (- 593m 15s) (5000 0%) 1.7539\n",
      "4m 41s (- 558m 58s) (10000 0%) 1.0453\n",
      "6m 55s (- 547m 1s) (15000 1%) 0.8002\n",
      "9m 5s (- 536m 0s) (20000 1%) 0.6382\n",
      "11m 18s (- 531m 46s) (25000 2%) 0.5754\n",
      "13m 29s (- 526m 29s) (30000 2%) 0.4826\n",
      "15m 37s (- 520m 11s) (35000 2%) 0.4587\n",
      "17m 46s (- 515m 15s) (40000 3%) 0.4010\n",
      "19m 56s (- 511m 39s) (45000 3%) 0.4079\n",
      "22m 9s (- 509m 47s) (50000 4%) 0.3673\n",
      "24m 16s (- 505m 21s) (55000 4%) 0.3557\n",
      "26m 23s (- 501m 35s) (60000 5%) 0.3452\n",
      "28m 32s (- 498m 20s) (65000 5%) 0.3265\n",
      "30m 40s (- 495m 11s) (70000 5%) 0.3347\n",
      "32m 47s (- 491m 55s) (75000 6%) 0.2905\n",
      "34m 55s (- 488m 59s) (80000 6%) 0.3072\n",
      "37m 4s (- 486m 21s) (85000 7%) 0.2940\n",
      "39m 10s (- 483m 8s) (90000 7%) 0.2875\n",
      "41m 17s (- 480m 20s) (95000 7%) 0.2893\n",
      "43m 25s (- 477m 43s) (100000 8%) 0.2877\n",
      "45m 33s (- 475m 7s) (105000 8%) 0.2858\n",
      "47m 39s (- 472m 15s) (110000 9%) 0.2695\n",
      "49m 48s (- 469m 52s) (115000 9%) 0.2779\n",
      "51m 55s (- 467m 15s) (120000 10%) 0.2843\n",
      "54m 2s (- 464m 43s) (125000 10%) 0.2689\n",
      "56m 11s (- 462m 31s) (130000 10%) 0.2688\n",
      "58m 20s (- 460m 11s) (135000 11%) 0.2825\n",
      "60m 27s (- 457m 42s) (140000 11%) 0.2574\n",
      "62m 32s (- 454m 59s) (145000 12%) 0.2453\n",
      "64m 56s (- 454m 37s) (150000 12%) 0.2532\n",
      "67m 29s (- 454m 58s) (155000 12%) 0.2325\n",
      "70m 5s (- 455m 37s) (160000 13%) 0.2439\n",
      "72m 41s (- 455m 56s) (165000 13%) 0.2459\n",
      "75m 16s (- 456m 3s) (170000 14%) 0.2281\n",
      "77m 52s (- 456m 5s) (175000 14%) 0.2284\n",
      "80m 28s (- 456m 1s) (180000 15%) 0.2188\n",
      "83m 3s (- 455m 44s) (185000 15%) 0.2122\n",
      "85m 39s (- 455m 22s) (190000 15%) 0.2143\n",
      "88m 16s (- 454m 58s) (195000 16%) 0.2172\n",
      "90m 50s (- 454m 13s) (200000 16%) 0.2272\n",
      "93m 26s (- 453m 30s) (205000 17%) 0.2266\n",
      "96m 2s (- 452m 45s) (210000 17%) 0.2334\n",
      "98m 37s (- 451m 51s) (215000 17%) 0.2168\n",
      "101m 13s (- 450m 54s) (220000 18%) 0.2154\n",
      "103m 48s (- 449m 50s) (225000 18%) 0.2054\n",
      "106m 21s (- 448m 33s) (230000 19%) 0.2066\n",
      "108m 56s (- 447m 21s) (235000 19%) 0.2010\n",
      "111m 30s (- 446m 3s) (240000 20%) 0.2013\n",
      "114m 5s (- 444m 41s) (245000 20%) 0.1996\n",
      "116m 41s (- 443m 27s) (250000 20%) 0.2098\n",
      "119m 18s (- 442m 8s) (255000 21%) 0.2016\n",
      "121m 54s (- 440m 44s) (260000 21%) 0.2046\n",
      "124m 30s (- 439m 17s) (265000 22%) 0.2282\n",
      "127m 5s (- 437m 46s) (270000 22%) 0.2153\n",
      "129m 39s (- 436m 8s) (275000 22%) 0.2752\n",
      "132m 16s (- 434m 36s) (280000 23%) 0.2594\n",
      "134m 52s (- 433m 0s) (285000 23%) 0.2534\n",
      "137m 29s (- 431m 26s) (290000 24%) 0.2517\n",
      "140m 6s (- 429m 48s) (295000 24%) 0.2469\n",
      "142m 41s (- 428m 4s) (300000 25%) 0.2202\n",
      "145m 17s (- 426m 20s) (305000 25%) 0.2150\n",
      "147m 52s (- 424m 33s) (310000 25%) 0.2196\n",
      "150m 26s (- 422m 40s) (315000 26%) 0.2003\n",
      "153m 3s (- 420m 53s) (320000 26%) 0.2185\n",
      "155m 36s (- 418m 56s) (325000 27%) 0.1974\n",
      "158m 11s (- 417m 3s) (330000 27%) 0.2067\n",
      "160m 48s (- 415m 13s) (335000 27%) 0.2087\n",
      "163m 23s (- 413m 17s) (340000 28%) 0.1907\n",
      "165m 59s (- 411m 21s) (345000 28%) 0.1944\n",
      "168m 35s (- 409m 27s) (350000 29%) 0.2041\n",
      "171m 10s (- 407m 27s) (355000 29%) 0.1922\n",
      "173m 45s (- 405m 27s) (360000 30%) 0.1993\n",
      "176m 21s (- 403m 27s) (365000 30%) 0.1928\n",
      "178m 56s (- 401m 25s) (370000 30%) 0.1795\n",
      "181m 30s (- 399m 20s) (375000 31%) 0.1751\n",
      "184m 8s (- 397m 20s) (380000 31%) 0.1843\n",
      "186m 45s (- 395m 20s) (385000 32%) 0.1820\n",
      "189m 23s (- 393m 20s) (390000 32%) 0.1901\n",
      "191m 59s (- 391m 16s) (395000 32%) 0.1926\n",
      "194m 36s (- 389m 13s) (400000 33%) 0.2059\n",
      "197m 12s (- 387m 7s) (405000 33%) 0.1908\n",
      "199m 48s (- 384m 59s) (410000 34%) 0.1861\n",
      "202m 24s (- 382m 51s) (415000 34%) 0.1810\n",
      "204m 59s (- 380m 41s) (420000 35%) 0.1657\n",
      "207m 36s (- 378m 33s) (425000 35%) 0.1559\n",
      "210m 13s (- 376m 26s) (430000 35%) 0.1715\n",
      "212m 49s (- 374m 16s) (435000 36%) 0.1765\n",
      "215m 26s (- 372m 7s) (440000 36%) 0.1711\n",
      "218m 1s (- 369m 54s) (445000 37%) 0.1568\n",
      "220m 39s (- 367m 45s) (450000 37%) 0.1620\n",
      "223m 14s (- 365m 31s) (455000 37%) 0.1448\n",
      "225m 50s (- 363m 17s) (460000 38%) 0.1583\n",
      "228m 25s (- 361m 3s) (465000 38%) 0.1508\n",
      "231m 3s (- 358m 53s) (470000 39%) 0.1566\n",
      "233m 42s (- 356m 42s) (475000 39%) 0.1567\n",
      "236m 19s (- 354m 28s) (480000 40%) 0.1418\n",
      "238m 53s (- 352m 10s) (485000 40%) 0.1389\n",
      "241m 31s (- 349m 57s) (490000 40%) 0.1447\n",
      "244m 6s (- 347m 40s) (495000 41%) 0.1354\n",
      "246m 44s (- 345m 26s) (500000 41%) 0.1401\n",
      "249m 20s (- 343m 9s) (505000 42%) 0.1433\n",
      "251m 58s (- 340m 54s) (510000 42%) 0.1486\n",
      "254m 36s (- 338m 39s) (515000 42%) 0.1544\n",
      "257m 14s (- 336m 23s) (520000 43%) 0.1392\n",
      "259m 51s (- 334m 6s) (525000 43%) 0.1322\n",
      "262m 26s (- 331m 46s) (530000 44%) 0.1303\n",
      "265m 4s (- 329m 28s) (535000 44%) 0.1389\n",
      "267m 39s (- 327m 8s) (540000 45%) 0.1309\n",
      "270m 15s (- 324m 47s) (545000 45%) 0.1212\n",
      "272m 53s (- 322m 30s) (550000 45%) 0.1301\n",
      "275m 30s (- 320m 10s) (555000 46%) 0.1250\n",
      "278m 6s (- 317m 49s) (560000 46%) 0.1268\n",
      "280m 43s (- 315m 30s) (565000 47%) 0.1239\n",
      "283m 21s (- 313m 11s) (570000 47%) 0.1333\n",
      "285m 57s (- 310m 49s) (575000 47%) 0.1216\n",
      "288m 33s (- 308m 27s) (580000 48%) 0.1217\n",
      "291m 11s (- 306m 7s) (585000 48%) 0.1297\n",
      "293m 48s (- 303m 45s) (590000 49%) 0.1234\n",
      "296m 22s (- 301m 21s) (595000 49%) 0.1220\n",
      "298m 58s (- 298m 58s) (600000 50%) 0.1169\n",
      "301m 35s (- 296m 36s) (605000 50%) 0.1252\n",
      "304m 13s (- 294m 15s) (610000 50%) 0.1061\n",
      "306m 52s (- 291m 54s) (615000 51%) 0.1184\n",
      "309m 28s (- 289m 30s) (620000 51%) 0.1156\n",
      "312m 5s (- 287m 7s) (625000 52%) 0.1144\n",
      "314m 40s (- 284m 42s) (630000 52%) 0.1193\n",
      "317m 17s (- 282m 19s) (635000 52%) 0.1177\n",
      "319m 55s (- 279m 55s) (640000 53%) 0.1503\n",
      "322m 23s (- 277m 24s) (645000 53%) 0.1383\n",
      "324m 53s (- 274m 54s) (650000 54%) 0.1401\n",
      "327m 30s (- 272m 30s) (655000 54%) 0.1286\n",
      "330m 6s (- 270m 5s) (660000 55%) 0.1490\n",
      "332m 41s (- 267m 38s) (665000 55%) 0.1373\n",
      "335m 18s (- 265m 15s) (670000 55%) 0.1413\n",
      "337m 35s (- 262m 34s) (675000 56%) 0.1300\n",
      "339m 48s (- 259m 51s) (680000 56%) 0.1312\n",
      "342m 3s (- 257m 9s) (685000 57%) 0.1214\n",
      "344m 18s (- 254m 29s) (690000 57%) 0.1502\n",
      "346m 32s (- 251m 48s) (695000 57%) 0.1226\n",
      "348m 46s (- 249m 7s) (700000 58%) 0.1284\n",
      "350m 59s (- 246m 26s) (705000 58%) 0.1295\n",
      "353m 12s (- 243m 46s) (710000 59%) 0.1213\n",
      "355m 26s (- 241m 6s) (715000 59%) 0.1206\n",
      "357m 37s (- 238m 25s) (720000 60%) 0.1264\n",
      "359m 53s (- 235m 47s) (725000 60%) 0.1296\n",
      "362m 4s (- 233m 7s) (730000 60%) 0.1109\n",
      "364m 17s (- 230m 28s) (735000 61%) 0.1152\n",
      "366m 31s (- 227m 50s) (740000 61%) 0.1204\n",
      "368m 45s (- 225m 13s) (745000 62%) 0.1117\n",
      "371m 4s (- 222m 38s) (750000 62%) 0.1179\n",
      "373m 16s (- 220m 0s) (755000 62%) 0.1050\n",
      "375m 30s (- 217m 24s) (760000 63%) 0.1086\n",
      "377m 40s (- 214m 45s) (765000 63%) 0.1159\n",
      "379m 51s (- 212m 7s) (770000 64%) 0.1737\n",
      "382m 5s (- 209m 31s) (775000 64%) 0.1386\n",
      "384m 21s (- 206m 57s) (780000 65%) 0.1458\n",
      "386m 33s (- 204m 21s) (785000 65%) 0.1330\n",
      "388m 48s (- 201m 47s) (790000 65%) 0.1332\n",
      "391m 1s (- 199m 12s) (795000 66%) 0.1205\n",
      "393m 14s (- 196m 37s) (800000 66%) 0.1204\n",
      "395m 28s (- 194m 3s) (805000 67%) 0.1263\n",
      "397m 43s (- 191m 29s) (810000 67%) 0.1394\n",
      "399m 56s (- 188m 55s) (815000 67%) 0.1344\n",
      "402m 10s (- 186m 22s) (820000 68%) 0.1362\n",
      "404m 23s (- 183m 48s) (825000 68%) 0.1296\n",
      "406m 36s (- 181m 15s) (830000 69%) 0.1517\n",
      "408m 50s (- 178m 42s) (835000 69%) 0.1358\n",
      "411m 1s (- 176m 9s) (840000 70%) 0.1218\n",
      "413m 11s (- 173m 35s) (845000 70%) 0.1290\n",
      "415m 24s (- 171m 3s) (850000 70%) 0.1314\n",
      "417m 36s (- 168m 30s) (855000 71%) 0.1352\n",
      "419m 48s (- 165m 58s) (860000 71%) 0.1344\n",
      "422m 2s (- 163m 27s) (865000 72%) 0.1348\n",
      "424m 15s (- 160m 55s) (870000 72%) 0.1135\n",
      "426m 27s (- 158m 23s) (875000 72%) 0.1230\n",
      "428m 42s (- 155m 53s) (880000 73%) 0.1145\n",
      "431m 3s (- 153m 25s) (885000 73%) 0.1180\n",
      "433m 48s (- 151m 6s) (890000 74%) 0.1275\n",
      "436m 30s (- 148m 45s) (895000 74%) 0.1193\n",
      "439m 13s (- 146m 24s) (900000 75%) 0.1127\n",
      "441m 56s (- 144m 3s) (905000 75%) 0.1158\n",
      "444m 37s (- 141m 41s) (910000 75%) 0.1179\n",
      "447m 18s (- 139m 19s) (915000 76%) 0.1075\n",
      "450m 2s (- 136m 58s) (920000 76%) 0.1145\n",
      "452m 44s (- 134m 35s) (925000 77%) 0.1028\n",
      "455m 29s (- 132m 14s) (930000 77%) 0.1258\n",
      "458m 13s (- 129m 52s) (935000 77%) 0.1179\n",
      "460m 56s (- 127m 29s) (940000 78%) 0.1060\n",
      "463m 40s (- 125m 7s) (945000 78%) 0.1128\n",
      "466m 23s (- 122m 44s) (950000 79%) 0.1074\n",
      "469m 5s (- 120m 20s) (955000 79%) 0.1034\n",
      "471m 50s (- 117m 57s) (960000 80%) 0.1083\n",
      "474m 33s (- 115m 33s) (965000 80%) 0.1050\n",
      "477m 18s (- 113m 10s) (970000 80%) 0.1180\n",
      "480m 2s (- 110m 46s) (975000 81%) 0.1135\n",
      "482m 44s (- 108m 22s) (980000 81%) 0.1071\n",
      "485m 28s (- 105m 58s) (985000 82%) 0.1097\n",
      "488m 11s (- 103m 33s) (990000 82%) 0.1069\n",
      "490m 54s (- 101m 8s) (995000 82%) 0.1072\n"
     ]
    },
    {
     "name": "stdout",
     "output_type": "stream",
     "text": [
      "493m 38s (- 98m 43s) (1000000 83%) 0.1122\n",
      "496m 20s (- 96m 18s) (1005000 83%) 0.1047\n",
      "499m 5s (- 93m 53s) (1010000 84%) 0.1070\n",
      "501m 49s (- 91m 27s) (1015000 84%) 0.1140\n",
      "504m 34s (- 89m 2s) (1020000 85%) 0.1098\n",
      "507m 18s (- 86m 36s) (1025000 85%) 0.1010\n",
      "510m 1s (- 84m 10s) (1030000 85%) 0.1172\n",
      "512m 44s (- 81m 44s) (1035000 86%) 0.1025\n",
      "515m 28s (- 79m 18s) (1040000 86%) 0.1137\n",
      "518m 9s (- 76m 51s) (1045000 87%) 0.1020\n",
      "520m 50s (- 74m 24s) (1050000 87%) 0.1126\n",
      "523m 33s (- 71m 57s) (1055000 87%) 0.1115\n",
      "526m 14s (- 69m 30s) (1060000 88%) 0.1095\n",
      "528m 58s (- 67m 3s) (1065000 88%) 0.1135\n",
      "531m 40s (- 64m 35s) (1070000 89%) 0.1088\n",
      "534m 21s (- 62m 8s) (1075000 89%) 0.1128\n",
      "537m 5s (- 59m 40s) (1080000 90%) 0.1091\n",
      "539m 50s (- 57m 13s) (1085000 90%) 0.1284\n",
      "542m 34s (- 54m 45s) (1090000 90%) 0.1149\n",
      "545m 16s (- 52m 17s) (1095000 91%) 0.1509\n",
      "547m 58s (- 49m 48s) (1100000 91%) 0.2299\n",
      "550m 41s (- 47m 20s) (1105000 92%) 0.1997\n",
      "553m 23s (- 44m 52s) (1110000 92%) 0.1688\n",
      "556m 8s (- 42m 23s) (1115000 92%) 0.2024\n",
      "558m 51s (- 39m 55s) (1120000 93%) 0.1760\n",
      "561m 35s (- 37m 26s) (1125000 93%) 0.1580\n",
      "564m 17s (- 34m 57s) (1130000 94%) 0.1518\n",
      "567m 2s (- 32m 28s) (1135000 94%) 0.1438\n",
      "569m 48s (- 29m 59s) (1140000 95%) 0.1456\n",
      "572m 33s (- 27m 30s) (1145000 95%) 0.1308\n",
      "575m 17s (- 25m 0s) (1150000 95%) 0.1267\n",
      "577m 59s (- 22m 31s) (1155000 96%) 0.1282\n",
      "580m 42s (- 20m 1s) (1160000 96%) 0.1427\n",
      "583m 22s (- 17m 31s) (1165000 97%) 0.1394\n",
      "586m 6s (- 15m 1s) (1170000 97%) 0.1419\n",
      "588m 50s (- 12m 31s) (1175000 97%) 0.2117\n",
      "591m 33s (- 10m 1s) (1180000 98%) 0.1784\n",
      "594m 16s (- 7m 31s) (1185000 98%) 0.1655\n",
      "597m 0s (- 5m 1s) (1190000 99%) 0.1781\n",
      "599m 45s (- 2m 30s) (1195000 99%) 0.1564\n",
      "602m 29s (- 0m 0s) (1200000 100%) 0.1508\n"
     ]
    },
    {
     "data": {
      "text/plain": [
       "<matplotlib.figure.Figure at 0x7f1abb772be0>"
      ]
     },
     "metadata": {},
     "output_type": "display_data"
    },
    {
     "data": {
      "image/png": "[encoded data removed]",
      "text/plain": [
       "<matplotlib.figure.Figure at 0x7f1a878af710>"
      ]
     },
     "metadata": {},
     "output_type": "display_data"
    }
   ],
   "source": [
    "hidden_size = 256\n",
    "encoder1 = EncoderRNN(input_lang.n_chars, hidden_size).to(device)\n",
    "attn_decoder1 = DecoderRNN(hidden_size, output_lang.n_chars, dropout_p=0.1).to(device)\n",
    "\n",
    "points = trainIters(encoder1, attn_decoder1, 2*600000, print_every=5000)\n",
    "plt.figure()\n",
    "fig, ax = plt.subplots()\n",
    "# this locator puts ticks at regular intervals\n",
    "loc = ticker.MultipleLocator(base=0.2)\n",
    "ax.yaxis.set_major_locator(loc)\n",
    "plt.plot(points)\n",
    "plt.show()"
   ]
  },
  {
   "cell_type": "code",
   "execution_count": null,
   "metadata": {
    "collapsed": true
   },
   "outputs": [],
   "source": []
  },
  {
   "cell_type": "code",
   "execution_count": null,
   "metadata": {
    "collapsed": true
   },
   "outputs": [],
   "source": []
  },
  {
   "cell_type": "code",
   "execution_count": null,
   "metadata": {
    "collapsed": true
   },
   "outputs": [],
   "source": []
  },
  {
   "cell_type": "code",
   "execution_count": null,
   "metadata": {
    "collapsed": true
   },
   "outputs": [],
   "source": []
  },
  {
   "cell_type": "code",
   "execution_count": null,
   "metadata": {
    "collapsed": true
   },
   "outputs": [],
   "source": []
  },
  {
   "cell_type": "code",
   "execution_count": null,
   "metadata": {
    "collapsed": true
   },
   "outputs": [],
   "source": []
  },
  {
   "cell_type": "code",
   "execution_count": 25,
   "metadata": {},
   "outputs": [
    {
     "name": "stdout",
     "output_type": "stream",
     "text": [
      "2m 33s (- 304m 22s) (5000 0%) 1.7512\n",
      "4m 50s (- 286m 7s) (10000 1%) 0.9791\n",
      "7m 8s (- 278m 24s) (15000 2%) 0.7409\n",
      "9m 25s (- 273m 19s) (20000 3%) 0.5920\n",
      "12m 7s (- 278m 41s) (25000 4%) 0.5231\n",
      "14m 46s (- 280m 49s) (30000 5%) 0.4694\n",
      "17m 28s (- 281m 58s) (35000 5%) 0.4435\n",
      "20m 9s (- 282m 12s) (40000 6%) 0.3998\n",
      "22m 49s (- 281m 28s) (45000 7%) 0.3822\n",
      "25m 29s (- 280m 24s) (50000 8%) 0.3505\n",
      "28m 12s (- 279m 33s) (55000 9%) 0.3499\n",
      "30m 54s (- 278m 12s) (60000 10%) 0.3260\n",
      "33m 37s (- 276m 43s) (65000 10%) 0.3250\n",
      "36m 19s (- 275m 2s) (70000 11%) 0.3032\n",
      "39m 1s (- 273m 8s) (75000 12%) 0.3058\n",
      "41m 42s (- 271m 6s) (80000 13%) 0.3019\n",
      "44m 24s (- 269m 4s) (85000 14%) 0.2870\n",
      "47m 6s (- 266m 57s) (90000 15%) 0.2695\n",
      "49m 47s (- 264m 42s) (95000 15%) 0.2617\n",
      "52m 27s (- 262m 18s) (100000 16%) 0.2620\n",
      "55m 9s (- 260m 0s) (105000 17%) 0.2694\n",
      "57m 49s (- 257m 35s) (110000 18%) 0.2426\n",
      "60m 32s (- 255m 21s) (115000 19%) 0.2628\n",
      "63m 14s (- 252m 56s) (120000 20%) 0.2410\n",
      "65m 54s (- 250m 26s) (125000 20%) 0.2431\n",
      "68m 35s (- 247m 58s) (130000 21%) 0.2407\n",
      "71m 16s (- 245m 30s) (135000 22%) 0.2391\n",
      "73m 57s (- 243m 0s) (140000 23%) 0.2258\n",
      "76m 37s (- 240m 26s) (145000 24%) 0.2170\n",
      "79m 17s (- 237m 51s) (150000 25%) 0.2167\n",
      "81m 56s (- 235m 15s) (155000 25%) 0.2213\n",
      "84m 36s (- 232m 40s) (160000 26%) 0.2103\n",
      "87m 15s (- 230m 3s) (165000 27%) 0.2125\n",
      "89m 59s (- 227m 36s) (170000 28%) 0.2491\n",
      "92m 39s (- 225m 0s) (175000 29%) 0.2598\n",
      "95m 19s (- 222m 26s) (180000 30%) 0.2387\n",
      "98m 2s (- 219m 55s) (185000 30%) 0.2358\n",
      "100m 43s (- 217m 22s) (190000 31%) 0.2229\n",
      "103m 27s (- 214m 52s) (195000 32%) 0.2225\n",
      "106m 11s (- 212m 22s) (200000 33%) 0.2049\n",
      "108m 53s (- 209m 49s) (205000 34%) 0.2139\n",
      "111m 37s (- 207m 19s) (210000 35%) 0.2344\n",
      "114m 20s (- 204m 44s) (215000 35%) 0.2284\n",
      "117m 2s (- 202m 9s) (220000 36%) 0.2350\n",
      "119m 45s (- 199m 36s) (225000 37%) 0.2263\n",
      "122m 27s (- 196m 59s) (230000 38%) 0.2089\n",
      "125m 8s (- 194m 22s) (235000 39%) 0.2040\n",
      "127m 51s (- 191m 47s) (240000 40%) 0.2158\n",
      "130m 34s (- 189m 11s) (245000 40%) 0.2048\n",
      "133m 17s (- 186m 36s) (250000 41%) 0.2273\n",
      "135m 58s (- 183m 57s) (255000 42%) 0.2237\n",
      "138m 40s (- 181m 20s) (260000 43%) 0.2207\n",
      "141m 22s (- 178m 43s) (265000 44%) 0.2204\n",
      "144m 4s (- 176m 6s) (270000 45%) 0.2051\n",
      "146m 46s (- 173m 27s) (275000 45%) 0.1923\n",
      "149m 28s (- 170m 50s) (280000 46%) 0.1885\n",
      "152m 10s (- 168m 11s) (285000 47%) 0.2235\n",
      "154m 53s (- 165m 34s) (290000 48%) 0.2144\n",
      "157m 37s (- 162m 58s) (295000 49%) 0.2185\n",
      "160m 21s (- 160m 21s) (300000 50%) 0.2158\n",
      "163m 5s (- 157m 44s) (305000 50%) 0.2456\n",
      "165m 48s (- 155m 7s) (310000 51%) 0.2488\n",
      "168m 32s (- 152m 29s) (315000 52%) 0.2219\n",
      "171m 17s (- 149m 52s) (320000 53%) 0.2231\n",
      "174m 1s (- 147m 14s) (325000 54%) 0.2448\n",
      "176m 42s (- 144m 35s) (330000 55%) 0.2224\n",
      "179m 26s (- 141m 56s) (335000 55%) 0.2155\n",
      "182m 12s (- 139m 20s) (340000 56%) 0.2101\n",
      "184m 56s (- 136m 41s) (345000 57%) 0.2022\n",
      "187m 39s (- 134m 2s) (350000 58%) 0.1907\n",
      "190m 22s (- 131m 23s) (355000 59%) 0.2318\n",
      "193m 6s (- 128m 44s) (360000 60%) 0.2218\n",
      "195m 50s (- 126m 5s) (365000 60%) 0.2258\n",
      "198m 35s (- 123m 27s) (370000 61%) 0.2173\n",
      "201m 22s (- 120m 49s) (375000 62%) 0.2953\n",
      "204m 6s (- 118m 10s) (380000 63%) 0.2509\n",
      "206m 54s (- 115m 32s) (385000 64%) 0.2367\n",
      "209m 39s (- 112m 53s) (390000 65%) 0.2145\n",
      "212m 22s (- 110m 13s) (395000 65%) 0.1931\n",
      "215m 6s (- 107m 33s) (400000 66%) 0.1984\n",
      "217m 49s (- 104m 52s) (405000 67%) 0.1868\n",
      "220m 34s (- 102m 13s) (410000 68%) 0.1921\n",
      "223m 20s (- 99m 33s) (415000 69%) 0.1939\n",
      "226m 5s (- 96m 53s) (420000 70%) 0.1910\n",
      "228m 50s (- 94m 13s) (425000 70%) 0.1860\n",
      "231m 35s (- 91m 33s) (430000 71%) 0.1884\n",
      "234m 20s (- 88m 53s) (435000 72%) 0.1715\n",
      "237m 5s (- 86m 12s) (440000 73%) 0.1799\n",
      "239m 50s (- 83m 32s) (445000 74%) 0.1661\n",
      "242m 36s (- 80m 52s) (450000 75%) 0.1745\n",
      "245m 17s (- 78m 10s) (455000 75%) 0.1671\n",
      "248m 3s (- 75m 29s) (460000 76%) 0.1869\n",
      "250m 49s (- 72m 49s) (465000 77%) 0.1799\n",
      "253m 33s (- 70m 7s) (470000 78%) 0.1730\n",
      "256m 17s (- 67m 26s) (475000 79%) 0.1510\n",
      "259m 0s (- 64m 45s) (480000 80%) 0.1627\n",
      "261m 43s (- 62m 3s) (485000 80%) 0.1665\n",
      "264m 26s (- 59m 21s) (490000 81%) 0.1589\n",
      "267m 13s (- 56m 41s) (495000 82%) 0.1608\n",
      "269m 56s (- 53m 59s) (500000 83%) 0.1582\n",
      "272m 40s (- 51m 17s) (505000 84%) 0.1562\n",
      "275m 22s (- 48m 35s) (510000 85%) 0.1664\n",
      "278m 4s (- 45m 53s) (515000 85%) 0.1487\n",
      "280m 48s (- 43m 12s) (520000 86%) 0.1630\n",
      "283m 31s (- 40m 30s) (525000 87%) 0.1617\n",
      "286m 13s (- 37m 48s) (530000 88%) 0.1537\n",
      "288m 54s (- 35m 6s) (535000 89%) 0.1494\n",
      "291m 37s (- 32m 24s) (540000 90%) 0.1515\n",
      "294m 21s (- 29m 42s) (545000 90%) 0.1566\n",
      "297m 4s (- 27m 0s) (550000 91%) 0.1487\n",
      "299m 48s (- 24m 18s) (555000 92%) 0.1499\n",
      "302m 32s (- 21m 36s) (560000 93%) 0.1621\n",
      "305m 16s (- 18m 54s) (565000 94%) 0.1496\n",
      "308m 0s (- 16m 12s) (570000 95%) 0.1641\n",
      "310m 42s (- 13m 30s) (575000 95%) 0.1430\n",
      "313m 26s (- 10m 48s) (580000 96%) 0.1508\n",
      "316m 12s (- 8m 6s) (585000 97%) 0.1652\n",
      "318m 56s (- 5m 24s) (590000 98%) 0.1568\n",
      "321m 39s (- 2m 42s) (595000 99%) 0.1570\n",
      "324m 20s (- 0m 0s) (600000 100%) 0.1492\n"
     ]
    },
    {
     "data": {
      "text/plain": [
       "<matplotlib.figure.Figure at 0x7f13d95679b0>"
      ]
     },
     "metadata": {},
     "output_type": "display_data"
    },
    {
     "data": {
      "image/png": "[encoded data removed]",
      "text/plain": [
       "<matplotlib.figure.Figure at 0x7f149cfd65c0>"
      ]
     },
     "metadata": {},
     "output_type": "display_data"
    }
   ],
   "source": [
    "hidden_size = 256\n",
    "encoder1 = EncoderRNN(input_lang.n_chars, hidden_size).to(device)\n",
    "attn_decoder1 = DecoderRNN(hidden_size, output_lang.n_chars, dropout_p=0.1).to(device)\n",
    "\n",
    "points = trainIters(encoder1, attn_decoder1, 600000, print_every=5000)\n",
    "plt.figure()\n",
    "fig, ax = plt.subplots()\n",
    "# this locator puts ticks at regular intervals\n",
    "loc = ticker.MultipleLocator(base=0.2)\n",
    "ax.yaxis.set_major_locator(loc)\n",
    "plt.plot(points)\n",
    "plt.show()"
   ]
  },
  {
   "cell_type": "code",
   "execution_count": 33,
   "metadata": {},
   "outputs": [
    {
     "name": "stdout",
     "output_type": "stream",
     "text": [
      "Hamburg > ###\n",
      "Lisboa > of#\n",
      "Madrid > otf\n",
      "= of\n",
      "< of\n",
      "\n",
      "Hamburg > H##\n",
      "Lisboa > He#\n",
      "Madrid > Hte\n",
      "= He\n",
      "< He\n",
      "\n",
      "Hamburg > crn####\n",
      "Lisboa > orreng#\n",
      "Madrid > crywing\n",
      "= crying\n",
      "< crying\n",
      "\n",
      "Hamburg > (\n",
      "Lisboa > .\n",
      "Madrid > (\n",
      "= (\n",
      "< (\n",
      "\n",
      "Hamburg > rhtee\n",
      "Lisboa > nalet\n",
      "Madrid > rhtee\n",
      "= rhtee\n",
      "< rhtee\n",
      "\n",
      "Hamburg > insea####\n",
      "Lisboa > ewdltid##\n",
      "Madrid > ifntstead\n",
      "= instead\n",
      "< instaad\n",
      "\n",
      "Hamburg > tl######\n",
      "Lisboa > ltlr####\n",
      "Madrid > ttfeolal\n",
      "= tell\n",
      "< tell\n",
      "\n",
      "Hamburg > .\n",
      "Lisboa > .\n",
      "Madrid > .\n",
      "= .\n",
      "< .\n",
      "\n",
      "Hamburg > ###\n",
      "Lisboa > ane\n",
      "Madrid > are\n",
      "= are\n",
      "< are\n",
      "\n",
      "Hamburg > f###\n",
      "Lisboa > iond\n",
      "Madrid > form\n",
      "= form\n",
      "< form\n",
      "\n"
     ]
    }
   ],
   "source": [
    "evaluateRandomly(encoder1, attn_decoder1)"
   ]
  },
  {
   "cell_type": "code",
   "execution_count": null,
   "metadata": {
    "collapsed": true
   },
   "outputs": [],
   "source": []
  },
  {
   "cell_type": "code",
   "execution_count": null,
   "metadata": {
    "collapsed": true
   },
   "outputs": [],
   "source": []
  },
  {
   "cell_type": "code",
   "execution_count": null,
   "metadata": {
    "collapsed": true
   },
   "outputs": [],
   "source": []
  },
  {
   "cell_type": "code",
   "execution_count": null,
   "metadata": {
    "collapsed": true
   },
   "outputs": [],
   "source": []
  },
  {
   "cell_type": "code",
   "execution_count": null,
   "metadata": {
    "collapsed": true
   },
   "outputs": [],
   "source": []
  },
  {
   "cell_type": "code",
   "execution_count": null,
   "metadata": {
    "collapsed": true
   },
   "outputs": [],
   "source": []
  },
  {
   "cell_type": "code",
   "execution_count": null,
   "metadata": {
    "collapsed": true
   },
   "outputs": [],
   "source": []
  },
  {
   "cell_type": "code",
   "execution_count": null,
   "metadata": {
    "collapsed": true
   },
   "outputs": [],
   "source": []
  },
  {
   "cell_type": "code",
   "execution_count": null,
   "metadata": {
    "collapsed": true
   },
   "outputs": [],
   "source": []
  },
  {
   "cell_type": "code",
   "execution_count": null,
   "metadata": {
    "collapsed": true
   },
   "outputs": [],
   "source": []
  },
  {
   "cell_type": "code",
   "execution_count": null,
   "metadata": {
    "collapsed": true
   },
   "outputs": [],
   "source": []
  },
  {
   "cell_type": "code",
   "execution_count": null,
   "metadata": {
    "collapsed": true
   },
   "outputs": [],
   "source": []
  },
  {
   "cell_type": "code",
   "execution_count": null,
   "metadata": {
    "collapsed": true
   },
   "outputs": [],
   "source": []
  },
  {
   "cell_type": "code",
   "execution_count": 19,
   "metadata": {
    "collapsed": true
   },
   "outputs": [],
   "source": []
  },
  {
   "cell_type": "code",
   "execution_count": 37,
   "metadata": {},
   "outputs": [
    {
     "name": "stdout",
     "output_type": "stream",
     "text": [
      "2m 24s (- 141m 37s) (5000 1%) 1.6314\n",
      "4m 48s (- 139m 35s) (10000 3%) 0.8437\n",
      "7m 12s (- 137m 5s) (15000 5%) 0.5883\n",
      "9m 37s (- 134m 51s) (20000 6%) 0.4738\n",
      "12m 1s (- 132m 21s) (25000 8%) 0.4184\n",
      "14m 24s (- 129m 40s) (30000 10%) 0.3649\n",
      "16m 47s (- 127m 4s) (35000 11%) 0.3325\n",
      "19m 11s (- 124m 45s) (40000 13%) 0.3017\n",
      "21m 33s (- 122m 11s) (45000 15%) 0.2774\n",
      "23m 57s (- 119m 48s) (50000 16%) 0.2638\n",
      "26m 43s (- 119m 3s) (55000 18%) 0.2601\n",
      "29m 31s (- 118m 4s) (60000 20%) 0.2563\n",
      "32m 16s (- 116m 39s) (65000 21%) 0.2286\n",
      "35m 0s (- 115m 0s) (70000 23%) 0.2229\n",
      "37m 49s (- 113m 29s) (75000 25%) 0.2240\n",
      "40m 36s (- 111m 40s) (80000 26%) 0.2088\n",
      "43m 18s (- 109m 33s) (85000 28%) 0.2070\n",
      "46m 10s (- 107m 43s) (90000 30%) 0.1985\n",
      "49m 4s (- 105m 53s) (95000 31%) 0.2061\n",
      "51m 54s (- 103m 49s) (100000 33%) 0.1873\n",
      "54m 47s (- 101m 46s) (105000 35%) 0.1957\n",
      "57m 39s (- 99m 35s) (110000 36%) 0.1782\n",
      "60m 32s (- 97m 24s) (115000 38%) 0.1725\n",
      "63m 22s (- 95m 3s) (120000 40%) 0.1619\n",
      "66m 14s (- 92m 43s) (125000 41%) 0.1677\n",
      "69m 6s (- 90m 22s) (130000 43%) 0.1706\n",
      "71m 59s (- 87m 59s) (135000 45%) 0.1589\n",
      "74m 50s (- 85m 31s) (140000 46%) 0.1490\n",
      "77m 41s (- 83m 2s) (145000 48%) 0.1411\n",
      "80m 36s (- 80m 36s) (150000 50%) 0.1551\n",
      "83m 26s (- 78m 3s) (155000 51%) 0.1447\n",
      "86m 18s (- 75m 31s) (160000 53%) 0.1457\n",
      "89m 11s (- 72m 58s) (165000 55%) 0.1345\n",
      "92m 0s (- 70m 21s) (170000 56%) 0.1356\n",
      "94m 40s (- 67m 37s) (175000 58%) 0.1236\n",
      "97m 25s (- 64m 57s) (180000 60%) 0.1330\n",
      "100m 7s (- 62m 14s) (185000 61%) 0.1241\n",
      "102m 51s (- 59m 33s) (190000 63%) 0.1247\n",
      "105m 37s (- 56m 52s) (195000 65%) 0.1193\n",
      "108m 24s (- 54m 12s) (200000 66%) 0.1246\n",
      "111m 11s (- 51m 31s) (205000 68%) 0.1111\n",
      "113m 58s (- 48m 50s) (210000 70%) 0.1152\n",
      "116m 42s (- 46m 8s) (215000 71%) 0.1290\n",
      "119m 26s (- 43m 26s) (220000 73%) 0.1298\n",
      "122m 12s (- 40m 44s) (225000 75%) 0.1331\n",
      "124m 57s (- 38m 1s) (230000 76%) 0.1164\n",
      "127m 43s (- 35m 19s) (235000 78%) 0.1073\n",
      "130m 27s (- 32m 36s) (240000 80%) 0.1213\n",
      "133m 14s (- 29m 54s) (245000 81%) 0.1156\n",
      "136m 0s (- 27m 12s) (250000 83%) 0.1107\n",
      "138m 47s (- 24m 29s) (255000 85%) 0.1193\n",
      "141m 34s (- 21m 46s) (260000 86%) 0.1098\n",
      "144m 19s (- 19m 3s) (265000 88%) 0.1088\n",
      "147m 0s (- 16m 20s) (270000 90%) 0.0961\n",
      "149m 43s (- 13m 36s) (275000 91%) 0.0976\n",
      "152m 27s (- 10m 53s) (280000 93%) 0.0981\n",
      "155m 15s (- 8m 10s) (285000 95%) 0.0994\n",
      "157m 52s (- 5m 26s) (290000 96%) 0.0974\n",
      "160m 14s (- 2m 42s) (295000 98%) 0.0884\n",
      "162m 37s (- 0m 0s) (300000 100%) 0.0895\n"
     ]
    },
    {
     "data": {
      "text/plain": [
       "<matplotlib.figure.Figure at 0x7f6f5facda20>"
      ]
     },
     "metadata": {},
     "output_type": "display_data"
    },
    {
     "data": {
      "image/png": "[encoded data removed]",
      "text/plain": [
       "<matplotlib.figure.Figure at 0x7f6f5e94e2b0>"
      ]
     },
     "metadata": {},
     "output_type": "display_data"
    }
   ],
   "source": [
    "hidden_size = 256\n",
    "encoder1 = EncoderRNN(input_lang.n_chars, hidden_size).to(device)\n",
    "attn_decoder1 = DecoderRNN(hidden_size, output_lang.n_chars, dropout_p=0.1).to(device)\n",
    "\n",
    "points = trainIters(encoder1, attn_decoder1, 300000, print_every=5000)\n",
    "plt.figure()\n",
    "fig, ax = plt.subplots()\n",
    "# this locator puts ticks at regular intervals\n",
    "loc = ticker.MultipleLocator(base=0.2)\n",
    "ax.yaxis.set_major_locator(loc)\n",
    "plt.plot(points)\n",
    "plt.show()"
   ]
  },
  {
   "cell_type": "code",
   "execution_count": 39,
   "metadata": {},
   "outputs": [
    {
     "name": "stdout",
     "output_type": "stream",
     "text": [
      "Hamburg > h####\n",
      "Lisboa > lhus#\n",
      "Madrid > thnus\n",
      "= thus\n",
      "< thus\n",
      "\n",
      "Hamburg > ears###\n",
      "Lisboa > yelre##\n",
      "Madrid > Dyearrs\n",
      "= years\n",
      "< years\n",
      "\n",
      "Hamburg > ,\n",
      "Lisboa > ,\n",
      "Madrid > ,\n",
      "= ,\n",
      "< ,\n",
      "\n",
      "Hamburg > dely#######\n",
      "Lisboa > eueefnly###\n",
      "Madrid > s.udddenley\n",
      "= suddenly\n",
      "< suddenly\n",
      "\n",
      "Hamburg > put#\n",
      "Lisboa > phl#\n",
      "Madrid > punt\n",
      "= put\n",
      "< put\n",
      "\n",
      "Hamburg > cannibal##\n",
      "Lisboa > cannlbal##\n",
      "Madrid > ecannkibal\n",
      "= cannibal\n",
      "< cannibal\n",
      "\n",
      "Hamburg > ###\n",
      "Lisboa > ii#\n",
      "Madrid > i22\n",
      "= 22\n",
      "< 22\n",
      "\n",
      "Hamburg > spue##\n",
      "Lisboa > ephe##\n",
      "Madrid > tspuce\n",
      "= spue\n",
      "< spue\n",
      "\n",
      "Hamburg > whle####\n",
      "Lisboa > wchlf###\n",
      "Madrid > whfollwe\n",
      "= whole\n",
      "< whele\n",
      "\n",
      "Hamburg > o########\n",
      "Lisboa > hhreee###\n",
      "Madrid > heorroses\n",
      "= horses\n",
      "< horses\n",
      "\n"
     ]
    }
   ],
   "source": [
    "evaluateRandomly(encoder1, attn_decoder1)"
   ]
  },
  {
   "cell_type": "code",
   "execution_count": null,
   "metadata": {
    "collapsed": true
   },
   "outputs": [],
   "source": []
  },
  {
   "cell_type": "code",
   "execution_count": null,
   "metadata": {
    "collapsed": true
   },
   "outputs": [],
   "source": []
  },
  {
   "cell_type": "code",
   "execution_count": null,
   "metadata": {
    "collapsed": true
   },
   "outputs": [],
   "source": []
  },
  {
   "cell_type": "code",
   "execution_count": null,
   "metadata": {
    "collapsed": true
   },
   "outputs": [],
   "source": []
  },
  {
   "cell_type": "code",
   "execution_count": null,
   "metadata": {
    "collapsed": true
   },
   "outputs": [],
   "source": []
  },
  {
   "cell_type": "code",
   "execution_count": null,
   "metadata": {
    "collapsed": true
   },
   "outputs": [],
   "source": []
  },
  {
   "cell_type": "code",
   "execution_count": null,
   "metadata": {
    "collapsed": true
   },
   "outputs": [],
   "source": []
  },
  {
   "cell_type": "code",
   "execution_count": null,
   "metadata": {
    "collapsed": true
   },
   "outputs": [],
   "source": []
  },
  {
   "cell_type": "code",
   "execution_count": null,
   "metadata": {
    "collapsed": true
   },
   "outputs": [],
   "source": []
  },
  {
   "cell_type": "code",
   "execution_count": null,
   "metadata": {
    "collapsed": true
   },
   "outputs": [],
   "source": []
  },
  {
   "cell_type": "code",
   "execution_count": null,
   "metadata": {
    "collapsed": true
   },
   "outputs": [],
   "source": []
  },
  {
   "cell_type": "code",
   "execution_count": null,
   "metadata": {
    "collapsed": true
   },
   "outputs": [],
   "source": []
  },
  {
   "cell_type": "code",
   "execution_count": 23,
   "metadata": {},
   "outputs": [
    {
     "name": "stdout",
     "output_type": "stream",
     "text": [
      "8m 10s (- 481m 51s) (5000 1%) 1.6572\n",
      "17m 8s (- 497m 7s) (10000 3%) 0.8094\n",
      "26m 20s (- 500m 33s) (15000 5%) 0.5326\n",
      "34m 13s (- 479m 6s) (20000 6%) 0.4231\n",
      "41m 21s (- 454m 51s) (25000 8%) 0.3600\n",
      "50m 3s (- 450m 29s) (30000 10%) 0.3167\n",
      "56m 1s (- 424m 13s) (35000 11%) 0.2802\n",
      "61m 55s (- 402m 28s) (40000 13%) 0.2860\n",
      "67m 42s (- 383m 41s) (45000 15%) 0.2606\n",
      "73m 26s (- 367m 13s) (50000 16%) 0.2652\n",
      "79m 9s (- 352m 36s) (55000 18%) 0.2340\n",
      "84m 55s (- 339m 41s) (60000 20%) 0.2225\n",
      "90m 37s (- 327m 38s) (65000 21%) 0.2151\n",
      "96m 16s (- 316m 20s) (70000 23%) 0.2091\n",
      "101m 59s (- 305m 57s) (75000 25%) 0.2526\n",
      "107m 51s (- 296m 36s) (80000 26%) 0.2363\n",
      "114m 20s (- 289m 13s) (85000 28%) 0.2354\n",
      "120m 56s (- 282m 11s) (90000 30%) 0.2140\n",
      "127m 32s (- 275m 13s) (95000 31%) 0.2138\n",
      "134m 0s (- 268m 1s) (100000 33%) 0.2120\n",
      "140m 12s (- 260m 23s) (105000 35%) 0.1917\n",
      "145m 56s (- 252m 5s) (110000 36%) 0.1821\n",
      "151m 47s (- 244m 11s) (115000 38%) 0.1887\n",
      "157m 36s (- 236m 24s) (120000 40%) 0.1838\n",
      "163m 21s (- 228m 41s) (125000 41%) 0.1767\n",
      "169m 9s (- 221m 12s) (130000 43%) 0.1812\n",
      "174m 54s (- 213m 46s) (135000 45%) 0.1619\n",
      "180m 38s (- 206m 27s) (140000 46%) 0.1668\n",
      "186m 25s (- 199m 16s) (145000 48%) 0.1640\n",
      "192m 19s (- 192m 19s) (150000 50%) 0.1795\n",
      "198m 7s (- 185m 20s) (155000 51%) 0.1615\n",
      "203m 58s (- 178m 28s) (160000 53%) 0.1762\n",
      "209m 45s (- 171m 37s) (165000 55%) 0.1709\n",
      "215m 35s (- 164m 51s) (170000 56%) 0.1709\n",
      "221m 25s (- 158m 9s) (175000 58%) 0.1737\n",
      "227m 10s (- 151m 26s) (180000 60%) 0.1713\n",
      "232m 55s (- 144m 47s) (185000 61%) 0.1900\n",
      "238m 38s (- 138m 9s) (190000 63%) 0.1887\n",
      "244m 19s (- 131m 33s) (195000 65%) 0.1779\n",
      "250m 2s (- 125m 1s) (200000 66%) 0.1855\n",
      "255m 48s (- 118m 32s) (205000 68%) 0.1761\n",
      "261m 30s (- 112m 4s) (210000 70%) 0.1688\n",
      "267m 17s (- 105m 40s) (215000 71%) 0.1632\n",
      "272m 58s (- 99m 15s) (220000 73%) 0.1559\n",
      "278m 39s (- 92m 53s) (225000 75%) 0.1564\n",
      "285m 2s (- 86m 45s) (230000 76%) 0.1611\n",
      "291m 9s (- 80m 32s) (235000 78%) 0.1750\n",
      "297m 0s (- 74m 15s) (240000 80%) 0.1525\n",
      "302m 49s (- 67m 58s) (245000 81%) 0.1501\n",
      "309m 11s (- 61m 50s) (250000 83%) 0.3806\n",
      "315m 42s (- 55m 42s) (255000 85%) 0.2521\n",
      "322m 31s (- 49m 37s) (260000 86%) 0.2079\n",
      "329m 13s (- 43m 28s) (265000 88%) 0.2025\n",
      "335m 48s (- 37m 18s) (270000 90%) 0.1977\n",
      "342m 44s (- 31m 9s) (275000 91%) 0.1764\n",
      "349m 51s (- 24m 59s) (280000 93%) 0.1860\n",
      "357m 22s (- 18m 48s) (285000 95%) 0.1680\n",
      "366m 30s (- 12m 38s) (290000 96%) 0.1760\n",
      "375m 3s (- 6m 21s) (295000 98%) 0.1663\n",
      "382m 50s (- 0m 0s) (300000 100%) 0.1600\n"
     ]
    },
    {
     "data": {
      "text/plain": [
       "<matplotlib.figure.Figure at 0x7f61b89e32b0>"
      ]
     },
     "metadata": {},
     "output_type": "display_data"
    },
    {
     "data": {
      "image/png": "[encoded data removed]",
      "text/plain": [
       "<matplotlib.figure.Figure at 0x7f61bbce04e0>"
      ]
     },
     "metadata": {},
     "output_type": "display_data"
    }
   ],
   "source": [
    "hidden_size = 512\n",
    "encoder1 = EncoderRNN(input_lang.n_chars, hidden_size).to(device)\n",
    "attn_decoder1 = AttnDecoderRNN(hidden_size, output_lang.n_chars, dropout_p=0.1).to(device)\n",
    "\n",
    "points = trainIters(encoder1, attn_decoder1, 300000, print_every=5000)\n",
    "plt.figure()\n",
    "fig, ax = plt.subplots()\n",
    "# this locator puts ticks at regular intervals\n",
    "loc = ticker.MultipleLocator(base=0.2)\n",
    "ax.yaxis.set_major_locator(loc)\n",
    "plt.plot(points)\n",
    "plt.show()"
   ]
  },
  {
   "cell_type": "code",
   "execution_count": 26,
   "metadata": {
    "scrolled": true
   },
   "outputs": [
    {
     "name": "stdout",
     "output_type": "stream",
     "text": [
      "Hamburg > ,\n",
      "Lisboa > o\n",
      "Madrid > ,\n",
      "= ,\n",
      "< ,\n",
      "\n",
      "Hamburg > ###\n",
      "Lisboa > ane\n",
      "Madrid > and\n",
      "= and\n",
      "< and\n",
      "\n",
      "Hamburg > h#\n",
      "Lisboa > se\n",
      "Madrid > he\n",
      "= he\n",
      "< he\n",
      "\n",
      "Hamburg > yu#\n",
      "Lisboa > dou\n",
      "Madrid > nau\n",
      "= you\n",
      "< you\n",
      "\n",
      "Hamburg > cre######\n",
      "Lisboa > cphporhhe\n",
      "Madrid > oetefrate\n",
      "= celebrate\n",
      "< cetporate\n",
      "\n",
      "Hamburg > ep##\n",
      "Lisboa > epep\n",
      "Madrid > ,ean\n",
      "= keep\n",
      "< sepe\n",
      "\n",
      "Hamburg > si###\n",
      "Lisboa > skihh\n",
      "Madrid > tkceg\n",
      "= skill\n",
      "< skilt\n",
      "\n",
      "Hamburg > ##\n",
      "Lisboa > hp\n",
      "Madrid > oe\n",
      "= he\n",
      "< he\n",
      "\n",
      "Hamburg > fai###\n",
      "Lisboa > oairld\n",
      "Madrid > naiceh\n",
      "= fairly\n",
      "< fairly\n",
      "\n",
      "Hamburg > sn####\n",
      "Lisboa > ehcced\n",
      "Madrid > tinrue\n",
      "= sinned\n",
      "< sinced\n",
      "\n"
     ]
    }
   ],
   "source": [
    "evaluateRandomly(encoder1, attn_decoder1)"
   ]
  }
 ],
 "metadata": {
  "kernelspec": {
   "display_name": "Python 3",
   "language": "python",
   "name": "python3"
  },
  "language_info": {
   "codemirror_mode": {
    "name": "ipython",
    "version": 3
   },
   "file_extension": ".py",
   "mimetype": "text/x-python",
   "name": "python",
   "nbconvert_exporter": "python",
   "pygments_lexer": "ipython3",
   "version": "3.6.3"
  }
 },
 "nbformat": 4,
 "nbformat_minor": 2
}
